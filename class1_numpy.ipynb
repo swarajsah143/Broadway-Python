{
 "cells": [
  {
   "cell_type": "code",
   "execution_count": 2,
   "id": "96c1627e",
   "metadata": {},
   "outputs": [
    {
     "name": "stdout",
     "output_type": "stream",
     "text": [
      "Requirement already satisfied: numpy in c:\\users\\ompra\\appdata\\local\\programs\\python\\python313\\lib\\site-packages (2.2.5)\n",
      "Note: you may need to restart the kernel to use updated packages.\n"
     ]
    },
    {
     "name": "stderr",
     "output_type": "stream",
     "text": [
      "\n",
      "[notice] A new release of pip is available: 24.3.1 -> 25.1.1\n",
      "[notice] To update, run: python.exe -m pip install --upgrade pip\n"
     ]
    }
   ],
   "source": [
    "%pip install numpy\n"
   ]
  },
  {
   "cell_type": "code",
   "execution_count": 3,
   "id": "3b805652",
   "metadata": {},
   "outputs": [
    {
     "name": "stdout",
     "output_type": "stream",
     "text": [
      "2.2.5\n"
     ]
    }
   ],
   "source": [
    "import numpy as np\n",
    "print(np.__version__)"
   ]
  },
  {
   "cell_type": "code",
   "execution_count": 12,
   "id": "3a58a52d",
   "metadata": {},
   "outputs": [
    {
     "name": "stdout",
     "output_type": "stream",
     "text": [
      "[1 2 3 4 5 6 7 8 9]\n"
     ]
    }
   ],
   "source": [
    "x=[1,2,3,4,5,6,7,8,9]\n",
    "na= np.array(x)\n",
    "print(na)"
   ]
  },
  {
   "cell_type": "code",
   "execution_count": 7,
   "id": "c69fd8b1",
   "metadata": {},
   "outputs": [
    {
     "name": "stdout",
     "output_type": "stream",
     "text": [
      "[-4 -3 -2 -1  0  1  2  3  4]\n",
      "[ 6  7  8  9 10 11 12 13 14]\n",
      "[ 5 10 15 20 25 30 35 40 45]\n",
      "[0.2 0.4 0.6 0.8 1.  1.2 1.4 1.6 1.8]\n",
      "[1 2 3 4 0 1 2 3 4]\n"
     ]
    }
   ],
   "source": [
    "# Operations\n",
    "\n",
    "print(na-5)\n",
    "print(na+5)\n",
    "print(na*5)\n",
    "print(na/5)\n",
    "print(na%5)"
   ]
  },
  {
   "cell_type": "code",
   "execution_count": 6,
   "id": "cfdd7c18",
   "metadata": {},
   "outputs": [
    {
     "name": "stdout",
     "output_type": "stream",
     "text": [
      "(9,)\n"
     ]
    }
   ],
   "source": [
    "# shape--1D\n",
    "\n",
    "x=[1,2,3,4,5,6,7,8,9]\n",
    "na=np.array(x)\n",
    "print(na.shape)  # Output: (9,)"
   ]
  },
  {
   "cell_type": "code",
   "execution_count": null,
   "id": "ef29ad40",
   "metadata": {},
   "outputs": [
    {
     "name": "stdout",
     "output_type": "stream",
     "text": [
      "(3, 3)\n"
     ]
    }
   ],
   "source": [
    "# 2D\n",
    "x=[[1,2,3],\n",
    "   [4,5,6],\n",
    "   [7,8,9]]\n",
    "na=np.array(x)\n",
    "print(na.shape)\n"
   ]
  },
  {
   "cell_type": "code",
   "execution_count": null,
   "id": "d4e79670",
   "metadata": {},
   "outputs": [
    {
     "name": "stdout",
     "output_type": "stream",
     "text": [
      "(9, 1)\n",
      "int64\n"
     ]
    }
   ],
   "source": [
    "x=[[1],[2],[3],[4],[5],[6],[7],[8]]\n",
    "na=np.array(x)\n",
    "print(na.shape)\n",
    "print(na.dtype) # int64\n"
   ]
  },
  {
   "cell_type": "code",
   "execution_count": 33,
   "id": "85791724",
   "metadata": {},
   "outputs": [
    {
     "name": "stdout",
     "output_type": "stream",
     "text": [
      "(1, 1, 9)\n"
     ]
    }
   ],
   "source": [
    "x=[[[1,2,3,4,5,6,7,8,9]]]\n",
    "na=np.array(x)\n",
    "print(na.shape)\n"
   ]
  },
  {
   "cell_type": "code",
   "execution_count": 8,
   "id": "a50bc3c3",
   "metadata": {},
   "outputs": [
    {
     "name": "stdout",
     "output_type": "stream",
     "text": [
      "[[1 2]\n",
      " [3 4]\n",
      " [5 6]] \n",
      "\n",
      "[[1 2 3 4 5 6]] \n",
      "\n",
      "[[1]\n",
      " [2]\n",
      " [3]\n",
      " [4]\n",
      " [5]\n",
      " [6]] \n",
      "\n"
     ]
    }
   ],
   "source": [
    "# reshape\n",
    "x=[[1,2,3],  # (2,3)\n",
    "   [4,5,6]]\n",
    "na=np.array(x)\n",
    "print(na.reshape(3,2),\"\\n\")\n",
    "print(na.reshape(1,6),\"\\n\")\n",
    "print(na.reshape(6,1),\"\\n\")"
   ]
  },
  {
   "cell_type": "code",
   "execution_count": null,
   "id": "09ea2eff",
   "metadata": {},
   "outputs": [
    {
     "name": "stdout",
     "output_type": "stream",
     "text": [
      "[1 2 3 4 5 6]\n"
     ]
    }
   ],
   "source": [
    "x=[[1,2,3],  # (2,3)\n",
    "   [4,5,6]]\n",
    "na=np.array(x)\n",
    "print(na.flatten()) # Brings all the datas into single dimension (flat)"
   ]
  },
  {
   "cell_type": "code",
   "execution_count": null,
   "id": "56be4fbb",
   "metadata": {},
   "outputs": [
    {
     "name": "stdout",
     "output_type": "stream",
     "text": [
      "[ 6  8 10 12]\n"
     ]
    }
   ],
   "source": [
    "a=np.array([1,2,3,4])\n",
    "b=np.array([5,6,7,8])\n",
    "c=a+b  # It adds the corresponding elements, doesnot concate here\n",
    "print(c)"
   ]
  },
  {
   "cell_type": "code",
   "execution_count": null,
   "id": "d1f9c6c9",
   "metadata": {},
   "outputs": [
    {
     "data": {
      "text/plain": [
       "array([1, 2, 3, 4, 5, 6, 7, 8])"
      ]
     },
     "execution_count": 31,
     "metadata": {},
     "output_type": "execute_result"
    }
   ],
   "source": [
    "# For concate\n",
    "# Horizontally\n",
    "np.hstack((a,b))"
   ]
  },
  {
   "cell_type": "code",
   "execution_count": 5,
   "id": "d8bd86d6",
   "metadata": {},
   "outputs": [
    {
     "data": {
      "text/plain": [
       "array([[1, 2, 3],\n",
       "       [4, 5, 6],\n",
       "       [7, 8, 9]])"
      ]
     },
     "execution_count": 5,
     "metadata": {},
     "output_type": "execute_result"
    }
   ],
   "source": [
    "# For concate\n",
    "# Vertically\n",
    "a=[1,2,3]\n",
    "b=[4,5,6]\n",
    "c=[7,8,9]\n",
    "np.vstack((a,b,c))\n",
    "# Horizontally\n",
    "\n",
    "\n"
   ]
  },
  {
   "cell_type": "code",
   "execution_count": null,
   "id": "80c30cfc",
   "metadata": {},
   "outputs": [],
   "source": []
  }
 ],
 "metadata": {
  "kernelspec": {
   "display_name": "Python 3",
   "language": "python",
   "name": "python3"
  },
  "language_info": {
   "codemirror_mode": {
    "name": "ipython",
    "version": 3
   },
   "file_extension": ".py",
   "mimetype": "text/x-python",
   "name": "python",
   "nbconvert_exporter": "python",
   "pygments_lexer": "ipython3",
   "version": "3.13.1"
  }
 },
 "nbformat": 4,
 "nbformat_minor": 5
}
