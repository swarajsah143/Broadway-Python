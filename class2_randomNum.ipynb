{
 "cells": [
  {
   "cell_type": "code",
   "execution_count": 1,
   "id": "cfeea111",
   "metadata": {},
   "outputs": [],
   "source": [
    "import numpy as np"
   ]
  },
  {
   "cell_type": "code",
   "execution_count": 15,
   "id": "f96c205a",
   "metadata": {},
   "outputs": [
    {
     "name": "stdout",
     "output_type": "stream",
     "text": [
      "[[ 4  2  1]\n",
      " [-3  0  6]\n",
      " [ 1  4  7]]\n"
     ]
    }
   ],
   "source": [
    "print(np.random.randint(-5,10,size=[3,3]))"
   ]
  },
  {
   "cell_type": "code",
   "execution_count": 8,
   "id": "1249c745",
   "metadata": {},
   "outputs": [
    {
     "name": "stdout",
     "output_type": "stream",
     "text": [
      "0.6072482944878606\n"
     ]
    }
   ],
   "source": [
    "print(np.random.random())"
   ]
  },
  {
   "cell_type": "code",
   "execution_count": 18,
   "id": "c5c190c4",
   "metadata": {},
   "outputs": [
    {
     "name": "stdout",
     "output_type": "stream",
     "text": [
      "['a' 'u' 'i' 'e' 'o' 'a' 'a' 'i' 'a' 'o']\n",
      "[3 3 3 1 3]\n"
     ]
    }
   ],
   "source": [
    "# Pick 10 items from a given list\n",
    "print(np.random.choice(['a', 'e' , 'i' , 'o' , 'u'], size=10))\n",
    "print(np.random.choice([1,2,3], size=5))"
   ]
  },
  {
   "cell_type": "code",
   "execution_count": 8,
   "id": "fad54fe0",
   "metadata": {},
   "outputs": [
    {
     "name": "stdout",
     "output_type": "stream",
     "text": [
      "[['e' 'u' 'e' 'u']\n",
      " ['e' 'u' 'a' 'e']\n",
      " ['a' 'u' 'a' 'i']\n",
      " ['a' 'u' 'a' 'i']]\n"
     ]
    }
   ],
   "source": [
    "print(np.random.choice(['a', 'e' , 'i' , 'o' , 'u'], size=(4,4)))"
   ]
  },
  {
   "cell_type": "code",
   "execution_count": 9,
   "id": "92176363",
   "metadata": {},
   "outputs": [
    {
     "name": "stdout",
     "output_type": "stream",
     "text": [
      "['a' 'o' 'u' 'a' 'o' 'u' 'u' 'e' 'o' 'a']\n"
     ]
    }
   ],
   "source": [
    "# Pick 10 items from a given list with a predefined probability 'p' --- percentage of each item\n",
    "print(np.random.choice(['a', 'e', 'i', 'o', 'u'], size=10, p=[0.3, 0.1, 0.1, 0.4,0.1]))"
   ]
  },
  {
   "cell_type": "code",
   "execution_count": 10,
   "id": "67cba816",
   "metadata": {},
   "outputs": [
    {
     "data": {
      "text/plain": [
       "'ieuaeeaaoa'"
      ]
     },
     "execution_count": 10,
     "metadata": {},
     "output_type": "execute_result"
    }
   ],
   "source": [
    "\"\".join(np.random.choice(['a', 'e', 'i', 'o', 'u'], size=10, p=[0.3, 0.1, 0.1, 0.4,0.1]))"
   ]
  },
  {
   "cell_type": "code",
   "execution_count": 20,
   "id": "416801dc",
   "metadata": {},
   "outputs": [
    {
     "name": "stdout",
     "output_type": "stream",
     "text": [
      "5\n",
      "1232\n",
      "268.1818181818182\n",
      "361.2047563821078\n",
      "88.0\n"
     ]
    }
   ],
   "source": [
    "na=np.array([111,222,23,445,656,33,88,69,1232,5,66])\n",
    "print(np.min(na))\n",
    "print(np.max(na))\n",
    "print(np.mean(na))\n",
    "print(np.std(na))\n",
    "print(np.median(na)) "
   ]
  },
  {
   "cell_type": "code",
   "execution_count": 12,
   "id": "1a4412d2",
   "metadata": {},
   "outputs": [
    {
     "name": "stdout",
     "output_type": "stream",
     "text": [
      "0.0\n"
     ]
    }
   ],
   "source": [
    "a=np.array([1,1,1,1,1,1,1,1,1,1])\n",
    "print(a.std())    # standard deviation"
   ]
  },
  {
   "cell_type": "code",
   "execution_count": 13,
   "id": "3de011bc",
   "metadata": {},
   "outputs": [
    {
     "name": "stdout",
     "output_type": "stream",
     "text": [
      "Requirement already satisfied: scipy in c:\\users\\ompra\\appdata\\local\\programs\\python\\python313\\lib\\site-packages (1.15.3)\n",
      "Requirement already satisfied: numpy<2.5,>=1.23.5 in c:\\users\\ompra\\appdata\\local\\programs\\python\\python313\\lib\\site-packages (from scipy) (2.2.5)\n",
      "Note: you may need to restart the kernel to use updated packages.\n"
     ]
    }
   ],
   "source": [
    "%pip install scipy"
   ]
  },
  {
   "cell_type": "code",
   "execution_count": 1,
   "id": "fee1f386",
   "metadata": {},
   "outputs": [
    {
     "name": "stdout",
     "output_type": "stream",
     "text": [
      "259.0\n"
     ]
    }
   ],
   "source": [
    "\n",
    "# Matrix\n",
    "\n",
    "import scipy.linalg as slin\n",
    "import numpy as np\n",
    "\n",
    "a = np.array([[ 3, -5, 8],\n",
    "              [-1, 2, 3],\n",
    "              [-5, -6, 2]])\n",
    "\n",
    "print(slin.det(a))"
   ]
  },
  {
   "cell_type": "code",
   "execution_count": 4,
   "id": "01d4db51",
   "metadata": {},
   "outputs": [
    {
     "name": "stdout",
     "output_type": "stream",
     "text": [
      "7\n",
      "[[ 0.08494208 -0.14671815 -0.11969112]\n",
      " [-0.05019305  0.17760618 -0.06563707]\n",
      " [ 0.06177606  0.16602317  0.003861  ]]\n"
     ]
    }
   ],
   "source": [
    "import numpy as np\n",
    "\n",
    "a = np.array([[ 3, -5, 8],\n",
    "              [-1,  2, 3],\n",
    "              [-5, -6, 2]])\n",
    "\n",
    "\n",
    "print(np.trace(a))    # sum of the diagnol elements\n",
    "\n",
    "print(slin.inv(a))    # inverse\n"
   ]
  },
  {
   "cell_type": "code",
   "execution_count": 13,
   "id": "89db0de5",
   "metadata": {},
   "outputs": [
    {
     "name": "stdout",
     "output_type": "stream",
     "text": [
      "[[ 3 -1 -5]\n",
      " [-5  2 -6]\n",
      " [ 8  3  2]]\n"
     ]
    }
   ],
   "source": [
    "# Transpose of a matrix \n",
    "a = [[ 3, -5, 8],\n",
    "     [-1, 2, 3],\n",
    "     [-5, -6, 2]]\n",
    "\n",
    "print(np.transpose(a))\n"
   ]
  },
  {
   "cell_type": "code",
   "execution_count": null,
   "id": "6c83ac8d",
   "metadata": {},
   "outputs": [
    {
     "name": "stdout",
     "output_type": "stream",
     "text": [
      "[[-19]\n",
      " [  2]\n",
      " [-41]]\n"
     ]
    }
   ],
   "source": [
    "# Matrix Multiplication\n",
    "\n",
    "import numpy as np\n",
    "\n",
    "a=np.matrix([[ 3, -5, 8],\n",
    "             [-1, 2, 3],\n",
    "             [-5, -6, 2]])\n",
    "\n",
    "b=np.matrix([[ 3],\n",
    "             [ 4],\n",
    "             [-1]])\n",
    "\n",
    "print(a*b)\n"
   ]
  },
  {
   "cell_type": "code",
   "execution_count": null,
   "id": "8c084f98",
   "metadata": {},
   "outputs": [
    {
     "name": "stdout",
     "output_type": "stream",
     "text": [
      "-6.0\n",
      "[2.50000000e+00 1.26882631e-16 2.50000000e+00]\n"
     ]
    }
   ],
   "source": [
    "# Solving linear problem\n",
    "# x+2y+3z=10\n",
    "# 2x+3y+4z=15\n",
    "# 3x+y+5z=20\n",
    "\n",
    "\n",
    "a=[[1,2,3],   \n",
    "   [2,3,4],\n",
    "   [3,1,5]]\n",
    "\n",
    "b=[10,15,20]\n",
    "print(slin.det(a))\n",
    "\n",
    "x=slin.solve(a,b)\n",
    "print(x)"
   ]
  },
  {
   "cell_type": "code",
   "execution_count": 19,
   "id": "79d07af3",
   "metadata": {},
   "outputs": [
    {
     "name": "stdout",
     "output_type": "stream",
     "text": [
      "7\n"
     ]
    }
   ],
   "source": [
    "print(np.random.randint(-5,9))"
   ]
  },
  {
   "cell_type": "code",
   "execution_count": 21,
   "id": "c927c2dd",
   "metadata": {},
   "outputs": [
    {
     "name": "stdout",
     "output_type": "stream",
     "text": [
      "[[ 2  1  8  2]\n",
      " [ 1  1  8 55]\n",
      " [55  6  6  6]]\n"
     ]
    }
   ],
   "source": [
    "print(np.random.choice([1,2,55,6,8],size=(3,4)))"
   ]
  },
  {
   "cell_type": "code",
   "execution_count": 22,
   "id": "e76b5a0c",
   "metadata": {},
   "outputs": [],
   "source": [
    "import string as st\n",
    "\n",
    "import random "
   ]
  },
  {
   "cell_type": "code",
   "execution_count": 32,
   "id": "932e86ae",
   "metadata": {},
   "outputs": [
    {
     "name": "stdout",
     "output_type": "stream",
     "text": [
      "['VE8x34v<']\n"
     ]
    }
   ],
   "source": [
    "print([\"\".join(random.choice(st.ascii_letters+st.digits+st.punctuation) for i in range(8))])"
   ]
  },
  {
   "cell_type": "code",
   "execution_count": 33,
   "id": "6d1cb7d1",
   "metadata": {},
   "outputs": [],
   "source": [
    "# Import Numpy Library\n",
    "import numpy as np\n",
    "import warnings\n",
    "warnings.filterwarnings(\"ignore\")\n",
    "from IPython.display import Image"
   ]
  },
  {
   "cell_type": "code",
   "execution_count": 34,
   "id": "398bce55",
   "metadata": {},
   "outputs": [
    {
     "data": {
      "text/plain": [
       "array([1, 2, 3, 4, 5])"
      ]
     },
     "execution_count": 34,
     "metadata": {},
     "output_type": "execute_result"
    }
   ],
   "source": [
    "arr1=np.array([1,2,3,4,5,])\n",
    "arr1"
   ]
  },
  {
   "cell_type": "code",
   "execution_count": 36,
   "id": "41049e61",
   "metadata": {},
   "outputs": [
    {
     "name": "stdout",
     "output_type": "stream",
     "text": [
      "int64\n"
     ]
    }
   ],
   "source": [
    "print(arr1.dtype)"
   ]
  },
  {
   "cell_type": "code",
   "execution_count": null,
   "id": "63253907",
   "metadata": {},
   "outputs": [
    {
     "name": "stdout",
     "output_type": "stream",
     "text": [
      "[1. 2. 3. 4. 5.]\n"
     ]
    }
   ],
   "source": [
    "# Convert interger array into float\n",
    "arr2=arr1.astype(float)\n",
    "\n",
    "print(arr2)"
   ]
  },
  {
   "cell_type": "code",
   "execution_count": 46,
   "id": "71e633a8",
   "metadata": {},
   "outputs": [
    {
     "name": "stdout",
     "output_type": "stream",
     "text": [
      "int64\n",
      "float64\n"
     ]
    }
   ],
   "source": [
    "print(arr1.dtype)\n",
    "print(arr2.dtype)"
   ]
  },
  {
   "cell_type": "code",
   "execution_count": 22,
   "id": "0f06f134",
   "metadata": {},
   "outputs": [
    {
     "name": "stdout",
     "output_type": "stream",
     "text": [
      "[ 0 10 20 30 40 50 60 70 80 90]\n"
     ]
    }
   ],
   "source": [
    "# Generate numbers between 0 to 100 with a space of 10\n",
    "print(np.arange(0,100,10))"
   ]
  },
  {
   "cell_type": "code",
   "execution_count": null,
   "id": "d0d87500",
   "metadata": {},
   "outputs": [],
   "source": []
  }
 ],
 "metadata": {
  "kernelspec": {
   "display_name": "Python 3",
   "language": "python",
   "name": "python3"
  },
  "language_info": {
   "codemirror_mode": {
    "name": "ipython",
    "version": 3
   },
   "file_extension": ".py",
   "mimetype": "text/x-python",
   "name": "python",
   "nbconvert_exporter": "python",
   "pygments_lexer": "ipython3",
   "version": "3.13.1"
  }
 },
 "nbformat": 4,
 "nbformat_minor": 5
}
